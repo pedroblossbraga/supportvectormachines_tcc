{
  "nbformat": 4,
  "nbformat_minor": 0,
  "metadata": {
    "colab": {
      "name": "TCC_imbalanced_SVM.ipynb",
      "provenance": [],
      "collapsed_sections": [],
      "authorship_tag": "ABX9TyO6p6nJxFHJaiDflSH4UtNJ",
      "include_colab_link": true
    },
    "kernelspec": {
      "name": "python3",
      "display_name": "Python 3"
    },
    "language_info": {
      "name": "python"
    }
  },
  "cells": [
    {
      "cell_type": "markdown",
      "metadata": {
        "id": "view-in-github",
        "colab_type": "text"
      },
      "source": [
        "<a href=\"https://colab.research.google.com/github/pedroblossbraga/supportvectormachines_tcc/blob/master/TCC_imbalanced_SVM.ipynb\" target=\"_parent\"><img src=\"https://colab.research.google.com/assets/colab-badge.svg\" alt=\"Open In Colab\"/></a>"
      ]
    },
    {
      "cell_type": "markdown",
      "source": [
        "# SVMs em dados desbalancedados (Imbalanced Learning with SVMs)\n",
        "\n",
        "\n",
        "\n",
        "- ref: https://machinelearningmastery.com/cost-sensitive-svm-for-imbalanced-classification/"
      ],
      "metadata": {
        "id": "IkotoxJMppS9"
      }
    },
    {
      "cell_type": "code",
      "execution_count": 32,
      "metadata": {
        "id": "qWN4Qq25pjhs"
      },
      "outputs": [],
      "source": [
        "import numpy as np\n",
        "import matplotlib.pyplot as plt\n",
        "import pandas as pd\n",
        "\n",
        "import time\n",
        "\n",
        "from sklearn.datasets import make_classification\n",
        "from sklearn.model_selection import cross_val_score\n",
        "from sklearn.model_selection import RepeatedStratifiedKFold\n",
        "from sklearn.svm import SVC\n",
        "\n",
        "from collections import Counter\n",
        "\n",
        "from imblearn.over_sampling import RandomOverSampler\n",
        "from imblearn.under_sampling import RandomUnderSampler"
      ]
    },
    {
      "cell_type": "markdown",
      "source": [
        "# Criando um dataset"
      ],
      "metadata": {
        "id": "mO5CCLy9p26E"
      }
    },
    {
      "cell_type": "code",
      "source": [
        "# gerando 10000 dados fictícios com desbalanceamento\n",
        "X, y = make_classification(n_samples=10000, \n",
        "                           n_features=2, \n",
        "                           n_redundant=0,\n",
        "\tn_clusters_per_class=1,\n",
        "   weights=[0.99], \n",
        "   flip_y=0, \n",
        "   random_state=42)"
      ],
      "metadata": {
        "id": "nwEBxZdJp5oB"
      },
      "execution_count": 2,
      "outputs": []
    },
    {
      "cell_type": "code",
      "source": [
        "# summarize class distribution\n",
        "counter = Counter(y)\n",
        "print(counter)\n",
        "\n",
        "# scatter plot of examples by class label\n",
        "for label, _ in counter.items():\n",
        "\trow_ix = np.where(y == label)[0]\n",
        "\tplt.scatter(X[row_ix, 0], X[row_ix, 1], label=str(label))\n",
        "plt.title('Dados originais', fontsize = 14)\n",
        "plt.legend()\n",
        "plt.show()"
      ],
      "metadata": {
        "colab": {
          "base_uri": "https://localhost:8080/",
          "height": 299
        },
        "id": "2MkmhwLYqnew",
        "outputId": "a5746cc2-2989-4199-b8b6-a422d71f4d2a"
      },
      "execution_count": 21,
      "outputs": [
        {
          "output_type": "stream",
          "name": "stdout",
          "text": [
            "Counter({0: 9900, 1: 100})\n"
          ]
        },
        {
          "output_type": "display_data",
          "data": {
            "text/plain": [
              "<Figure size 432x288 with 1 Axes>"
            ],
            "image/png": "[encoded data removed]"
          },
          "metadata": {
            "needs_background": "light"
          }
        }
      ]
    },
    {
      "cell_type": "code",
      "source": [
        "# instanciando o modelo\n",
        "model = SVC()\n",
        "\n",
        "# define evaluation procedure\n",
        "cv = RepeatedStratifiedKFold(n_splits=10, n_repeats=3, random_state=42)\n",
        "\n",
        "# evaluate model\n",
        "scores = cross_val_score(model, X, y, scoring='roc_auc', cv=cv, n_jobs=-1)\n",
        "\n",
        "# summarize performance\n",
        "print('Mean ROC AUC: %.3f' % np.mean(scores))"
      ],
      "metadata": {
        "colab": {
          "base_uri": "https://localhost:8080/"
        },
        "id": "R_lPiPdFrDen",
        "outputId": "b822dc52-e356-446c-b826-1881b1d7e33d"
      },
      "execution_count": 7,
      "outputs": [
        {
          "output_type": "stream",
          "name": "stdout",
          "text": [
            "Mean ROC AUC: 0.997\n"
          ]
        }
      ]
    },
    {
      "cell_type": "code",
      "source": [
        "# instanciando o modelo\n",
        "model = SVC(gamma='scale')\n",
        "\n",
        "# define evaluation procedure\n",
        "cv = RepeatedStratifiedKFold(n_splits=10, n_repeats=3, random_state=42)\n",
        "\n",
        "# evaluate model\n",
        "scores = cross_val_score(model, X, y, scoring='roc_auc', cv=cv, n_jobs=-1)\n",
        "\n",
        "# summarize performance\n",
        "print('Mean ROC AUC: %.3f' % np.mean(scores))"
      ],
      "metadata": {
        "colab": {
          "base_uri": "https://localhost:8080/"
        },
        "id": "js-UC1Cvp-K4",
        "outputId": "5796d97e-cb85-44df-f8b4-b0a6a07cab37"
      },
      "execution_count": 4,
      "outputs": [
        {
          "output_type": "stream",
          "name": "stdout",
          "text": [
            "Mean ROC AUC: 0.997\n"
          ]
        }
      ]
    },
    {
      "cell_type": "markdown",
      "source": [
        "# Usando os pesos de classes do scikit-learn"
      ],
      "metadata": {
        "id": "-onJYHCQqKVD"
      }
    },
    {
      "cell_type": "code",
      "source": [
        "# # define model\n",
        "# weights = {0:1.0, 1:1.0}\n",
        "# model = SVC(gamma='scale', class_weight=weights)\n",
        "\n",
        "# define model\n",
        "model = SVC(gamma='scale', class_weight='balanced')"
      ],
      "metadata": {
        "id": "v4hnHeDwqNF5"
      },
      "execution_count": 5,
      "outputs": []
    },
    {
      "cell_type": "code",
      "source": [
        "# define evaluation procedure\n",
        "cv = RepeatedStratifiedKFold(n_splits=10, n_repeats=3, random_state=42)\n",
        "\n",
        "# evaluate model\n",
        "scores = cross_val_score(model, X, y, scoring='roc_auc', cv=cv, n_jobs=-1)\n",
        "\n",
        "# summarize performance\n",
        "print('Mean ROC AUC: %.3f' % np.mean(scores))"
      ],
      "metadata": {
        "colab": {
          "base_uri": "https://localhost:8080/"
        },
        "id": "7DHZS2wCqX8H",
        "outputId": "93882cca-c0b6-4b76-eb8b-c143334fe846"
      },
      "execution_count": 6,
      "outputs": [
        {
          "output_type": "stream",
          "name": "stdout",
          "text": [
            "Mean ROC AUC: 1.000\n"
          ]
        }
      ]
    },
    {
      "cell_type": "markdown",
      "source": [
        "# Undersampling"
      ],
      "metadata": {
        "id": "rd3hRnTrrOYu"
      }
    },
    {
      "cell_type": "code",
      "source": [
        "rus = RandomUnderSampler(random_state=42)\n",
        "# rus.fit(X, y)\n",
        "# X_resampled, y_resampled = rus.sample(X, y)\n",
        "\n",
        "X_undersampled, y_undersampled = rus.fit_resample(X, y)"
      ],
      "metadata": {
        "id": "HYUZz877rN3F"
      },
      "execution_count": 22,
      "outputs": []
    },
    {
      "cell_type": "code",
      "source": [
        "# summarize class distribution\n",
        "counter = Counter(y_undersampled)\n",
        "print(counter)\n",
        "\n",
        "# scatter plot of examples by class label\n",
        "for label, _ in counter.items():\n",
        "\trow_ix = np.where(y_undersampled == label)[0]\n",
        "\tplt.scatter(X_undersampled[row_ix, 0], \n",
        "             X_undersampled[row_ix, 1], \n",
        "             label=str(label))\n",
        "plt.title('Dados com Undersampling', fontsize = 14)\n",
        "plt.legend()\n",
        "plt.show()"
      ],
      "metadata": {
        "colab": {
          "base_uri": "https://localhost:8080/",
          "height": 299
        },
        "id": "K0oBs4KhrZ_o",
        "outputId": "2935324e-adf4-4fe4-916f-e1f06e5e13dd"
      },
      "execution_count": 23,
      "outputs": [
        {
          "output_type": "stream",
          "name": "stdout",
          "text": [
            "Counter({0: 100, 1: 100})\n"
          ]
        },
        {
          "output_type": "display_data",
          "data": {
            "text/plain": [
              "<Figure size 432x288 with 1 Axes>"
            ],
            "image/png": "[encoded data removed]"
          },
          "metadata": {
            "needs_background": "light"
          }
        }
      ]
    },
    {
      "cell_type": "code",
      "source": [
        "# instanciando o modelo\n",
        "model = SVC()\n",
        "\n",
        "# define evaluation procedure\n",
        "cv = RepeatedStratifiedKFold(n_splits=10, n_repeats=3, random_state=42)\n",
        "\n",
        "# evaluate model\n",
        "scores = cross_val_score(model, X_undersampled, y_undersampled,\n",
        "                         scoring='roc_auc', \n",
        "                         cv=cv, \n",
        "                         n_jobs=-1)\n",
        "\n",
        "# summarize performance\n",
        "print('(Undersampling) Mean ROC AUC: %.3f' % np.mean(scores))"
      ],
      "metadata": {
        "colab": {
          "base_uri": "https://localhost:8080/"
        },
        "id": "dvi87TpQry8I",
        "outputId": "9992627d-702c-4690-e0c1-17d410288b62"
      },
      "execution_count": 24,
      "outputs": [
        {
          "output_type": "stream",
          "name": "stdout",
          "text": [
            "(Undersampling) Mean ROC AUC: 1.000\n"
          ]
        }
      ]
    },
    {
      "cell_type": "markdown",
      "source": [
        "# Oversampling"
      ],
      "metadata": {
        "id": "KEpPByF8r5PI"
      }
    },
    {
      "cell_type": "code",
      "source": [
        "ros = RandomOverSampler(random_state=42)\n",
        "X_oversampled, y_oversampled = ros.fit_resample(X, y)"
      ],
      "metadata": {
        "id": "Qax9AX10r6KJ"
      },
      "execution_count": 25,
      "outputs": []
    },
    {
      "cell_type": "code",
      "source": [
        "# summarize class distribution\n",
        "counter = Counter(y_oversampled)\n",
        "print(counter)\n",
        "\n",
        "# scatter plot of examples by class label\n",
        "for label, _ in counter.items():\n",
        "\trow_ix = np.where(y_oversampled == label)[0]\n",
        "\tplt.scatter(X_oversampled[row_ix, 0], \n",
        "             X_oversampled[row_ix, 1], \n",
        "             label=str(label))\n",
        "plt.title('Dados com Oversampling', fontsize = 14)\n",
        "plt.legend()\n",
        "plt.show()"
      ],
      "metadata": {
        "colab": {
          "base_uri": "https://localhost:8080/",
          "height": 299
        },
        "id": "oW4T0yaur_SR",
        "outputId": "1bb90eb5-6ab0-4962-88e0-e6696fd6222b"
      },
      "execution_count": 26,
      "outputs": [
        {
          "output_type": "stream",
          "name": "stdout",
          "text": [
            "Counter({0: 9900, 1: 9900})\n"
          ]
        },
        {
          "output_type": "display_data",
          "data": {
            "text/plain": [
              "<Figure size 432x288 with 1 Axes>"
            ],
            "image/png": "[encoded data removed]"
          },
          "metadata": {
            "needs_background": "light"
          }
        }
      ]
    },
    {
      "cell_type": "code",
      "source": [
        "# instanciando o modelo\n",
        "model = SVC()\n",
        "\n",
        "# define evaluation procedure\n",
        "cv = RepeatedStratifiedKFold(n_splits=10, n_repeats=3, random_state=42)\n",
        "\n",
        "# evaluate model\n",
        "scores = cross_val_score(model, X_oversampled, y_oversampled,\n",
        "                         scoring='roc_auc', \n",
        "                         cv=cv, \n",
        "                         n_jobs=-1)\n",
        "\n",
        "# summarize performance\n",
        "print('(Oversampling) Mean ROC AUC: %.3f' % np.mean(scores))"
      ],
      "metadata": {
        "colab": {
          "base_uri": "https://localhost:8080/"
        },
        "id": "b-jRRgAgsAmX",
        "outputId": "4beab84f-3fad-4b2e-d075-11c10cece0b5"
      },
      "execution_count": 53,
      "outputs": [
        {
          "output_type": "stream",
          "name": "stdout",
          "text": [
            "(Oversampling) Mean ROC AUC: 1.000\n"
          ]
        }
      ]
    },
    {
      "cell_type": "markdown",
      "source": [
        "# Plotando as amostragens em conjunto"
      ],
      "metadata": {
        "id": "76HAoKC1sft7"
      }
    },
    {
      "cell_type": "code",
      "source": [
        "def plot_sampling(X,y, titulo):\n",
        "  # summarize class distribution\n",
        "  counter = Counter(y)\n",
        "  print(counter)\n",
        "\n",
        "  # scatter plot of examples by class label\n",
        "  for label, _ in counter.items():\n",
        "    row_ix = np.where(y == label)[0]\n",
        "    plt.scatter(X[row_ix, 0], X[row_ix, 1], label=str(label))\n",
        "  plt.title(titulo, fontsize = 14)\n",
        "  # plt.legend()\n",
        "  plt.text(-5.5, -2, \n",
        "           counter,\n",
        "           fontsize = 14)\n",
        "  plt.ylim([-3, 5])\n",
        "  plt.xlim([-6, 3])\n",
        "  return plt\n",
        "\n",
        "def cross_validate_model(X,y):\n",
        "  t0 = time.time()\n",
        "\n",
        "  # instanciando o modelo\n",
        "  model = SVC()\n",
        "\n",
        "  # define evaluation procedure\n",
        "  cv = RepeatedStratifiedKFold(n_splits=10, n_repeats=3, random_state=42)\n",
        "\n",
        "  # evaluate model\n",
        "  scores = cross_val_score(model, X, y, scoring='roc_auc', cv=cv, n_jobs=-1)\n",
        "\n",
        "  # summarize performance\n",
        "  print('Mean ROC AUC: %.3f' % np.mean(scores))\n",
        "  dt = time.time() - t0\n",
        "  return np.mean(scores), dt\n",
        "\n",
        "\n",
        "def cross_val_classweights(X,y):\n",
        "  t0 = time.time()\n",
        "\n",
        "  # instanciando o modelo\n",
        "  model = SVC(gamma='scale', class_weight='balanced')\n",
        "\n",
        "  # define evaluation procedure\n",
        "  cv = RepeatedStratifiedKFold(n_splits=10, n_repeats=3, random_state=42)\n",
        "\n",
        "  # evaluate model\n",
        "  scores = cross_val_score(model, X, y, scoring='roc_auc', cv=cv, n_jobs=-1)\n",
        "\n",
        "  # summarize performance\n",
        "  print('Mean ROC AUC: %.3f' % np.mean(scores))\n",
        "  dt = time.time() - t0\n",
        "  return np.mean(scores), dt"
      ],
      "metadata": {
        "id": "bR4ekHTksjCm"
      },
      "execution_count": 54,
      "outputs": []
    },
    {
      "cell_type": "code",
      "source": [
        "d = {'amostragem': [],\n",
        "     'ROC_AUC_medio': [],\n",
        "     'tempo_execução': []}\n",
        "\n",
        "\n",
        "plt.figure(figsize=(10,5))\n",
        "plt.subplot(2,2,1)\n",
        "\n",
        "roc_auc, dt = cross_validate_model(X,y)\n",
        "d['amostragem'].append('Dados originais')\n",
        "d['ROC_AUC_medio'].append(roc_auc)\n",
        "d['tempo_execução'].append(dt)\n",
        "\n",
        "plot_sampling(X,y, \n",
        "              titulo = 'Dados originais')\n",
        "\n",
        "plt.subplot(2,2,2)\n",
        "\n",
        "roc_auc, dt = cross_validate_model(X_undersampled, y_undersampled)\n",
        "d['amostragem'].append('Undersampling')\n",
        "d['ROC_AUC_medio'].append(roc_auc)\n",
        "d['tempo_execução'].append(dt)\n",
        "\n",
        "plot_sampling(X_undersampled, y_undersampled,\n",
        "              titulo = 'Dados com Undersampling')\n",
        "\n",
        "plt.legend(\n",
        "           bbox_to_anchor = (0.98, 0.9),\n",
        "           title='classes',\n",
        "           title_fontsize=16,\n",
        "           fontsize=14\n",
        "           )\n",
        "\n",
        "plt.subplot(2,2,3)\n",
        "\n",
        "roc_auc, dt = cross_validate_model(X_oversampled, y_oversampled)\n",
        "d['amostragem'].append('Oversampling')\n",
        "d['ROC_AUC_medio'].append(roc_auc)\n",
        "d['tempo_execução'].append(dt)\n",
        "\n",
        "plot_sampling(X_oversampled, y_oversampled,\n",
        "              titulo = 'Dados com Oversampling')\n",
        "\n",
        "plt.subplot(2,2,4)\n",
        "roc_auc, dt = cross_val_classweights(X,y)\n",
        "d['amostragem'].append('class_weights')\n",
        "d['ROC_AUC_medio'].append(roc_auc)\n",
        "d['tempo_execução'].append(dt)\n",
        "\n",
        "plot_sampling(X, y,\n",
        "              titulo = 'Dados originais - class_weight')\n",
        "\n",
        "plt.tight_layout()\n",
        "plt.show()\n",
        "\n",
        "pd.DataFrame(d)"
      ],
      "metadata": {
        "colab": {
          "base_uri": "https://localhost:8080/",
          "height": 661
        },
        "id": "7wKQIX06triN",
        "outputId": "2a9d2193-6fc7-4a54-a909-7d66064c5907"
      },
      "execution_count": 55,
      "outputs": [
        {
          "output_type": "stream",
          "name": "stdout",
          "text": [
            "Mean ROC AUC: 0.997\n",
            "Counter({0: 9900, 1: 100})\n",
            "Mean ROC AUC: 1.000\n",
            "Counter({0: 100, 1: 100})\n",
            "Mean ROC AUC: 1.000\n",
            "Counter({0: 9900, 1: 9900})\n",
            "Mean ROC AUC: 1.000\n",
            "Counter({0: 9900, 1: 100})\n"
          ]
        },
        {
          "output_type": "display_data",
          "data": {
            "text/plain": [
              "<Figure size 720x360 with 4 Axes>"
            ],
            "image/png": "[encoded data removed]"
          },
          "metadata": {
            "needs_background": "light"
          }
        },
        {
          "output_type": "execute_result",
          "data": {
            "text/plain": [
              "        amostragem  ROC_AUC_medio  tempo_execução\n",
              "0  Dados originais       0.997448        1.036653\n",
              "1    Undersampling       1.000000        0.100182\n",
              "2     Oversampling       0.999759       10.746799\n",
              "3    class_weights       0.999731        3.700017"
            ],
            "text/html": [
              "\n",
              "  <div id=\"df-bb64f703-12c2-44d7-b7ec-34b648b45013\">\n",
              "    <div class=\"colab-df-container\">\n",
              "      <div>\n",
              "<style scoped>\n",
              "    .dataframe tbody tr th:only-of-type {\n",
              "        vertical-align: middle;\n",
              "    }\n",
              "\n",
              "    .dataframe tbody tr th {\n",
              "        vertical-align: top;\n",
              "    }\n",
              "\n",
              "    .dataframe thead th {\n",
              "        text-align: right;\n",
              "    }\n",
              "</style>\n",
              "<table border=\"1\" class=\"dataframe\">\n",
              "  <thead>\n",
              "    <tr style=\"text-align: right;\">\n",
              "      <th></th>\n",
              "      <th>amostragem</th>\n",
              "      <th>ROC_AUC_medio</th>\n",
              "      <th>tempo_execução</th>\n",
              "    </tr>\n",
              "  </thead>\n",
              "  <tbody>\n",
              "    <tr>\n",
              "      <th>0</th>\n",
              "      <td>Dados originais</td>\n",
              "      <td>0.997448</td>\n",
              "      <td>1.036653</td>\n",
              "    </tr>\n",
              "    <tr>\n",
              "      <th>1</th>\n",
              "      <td>Undersampling</td>\n",
              "      <td>1.000000</td>\n",
              "      <td>0.100182</td>\n",
              "    </tr>\n",
              "    <tr>\n",
              "      <th>2</th>\n",
              "      <td>Oversampling</td>\n",
              "      <td>0.999759</td>\n",
              "      <td>10.746799</td>\n",
              "    </tr>\n",
              "    <tr>\n",
              "      <th>3</th>\n",
              "      <td>class_weights</td>\n",
              "      <td>0.999731</td>\n",
              "      <td>3.700017</td>\n",
              "    </tr>\n",
              "  </tbody>\n",
              "</table>\n",
              "</div>\n",
              "      <button class=\"colab-df-convert\" onclick=\"convertToInteractive('df-bb64f703-12c2-44d7-b7ec-34b648b45013')\"\n",
              "              title=\"Convert this dataframe to an interactive table.\"\n",
              "              style=\"display:none;\">\n",
              "        \n",
              "  <svg xmlns=\"http://www.w3.org/2000/svg\" height=\"24px\"viewBox=\"0 0 24 24\"\n",
              "       width=\"24px\">\n",
              "    <path d=\"M0 0h24v24H0V0z\" fill=\"none\"/>\n",
              "    <path d=\"M18.56 5.44l.94 2.06.94-2.06 2.06-.94-2.06-.94-.94-2.06-.94 2.06-2.06.94zm-11 1L8.5 8.5l.94-2.06 2.06-.94-2.06-.94L8.5 2.5l-.94 2.06-2.06.94zm10 10l.94 2.06.94-2.06 2.06-.94-2.06-.94-.94-2.06-.94 2.06-2.06.94z\"/><path d=\"M17.41 7.96l-1.37-1.37c-.4-.4-.92-.59-1.43-.59-.52 0-1.04.2-1.43.59L10.3 9.45l-7.72 7.72c-.78.78-.78 2.05 0 2.83L4 21.41c.39.39.9.59 1.41.59.51 0 1.02-.2 1.41-.59l7.78-7.78 2.81-2.81c.8-.78.8-2.07 0-2.86zM5.41 20L4 18.59l7.72-7.72 1.47 1.35L5.41 20z\"/>\n",
              "  </svg>\n",
              "      </button>\n",
              "      \n",
              "  <style>\n",
              "    .colab-df-container {\n",
              "      display:flex;\n",
              "      flex-wrap:wrap;\n",
              "      gap: 12px;\n",
              "    }\n",
              "\n",
              "    .colab-df-convert {\n",
              "      background-color: #E8F0FE;\n",
              "      border: none;\n",
              "      border-radius: 50%;\n",
              "      cursor: pointer;\n",
              "      display: none;\n",
              "      fill: #1967D2;\n",
              "      height: 32px;\n",
              "      padding: 0 0 0 0;\n",
              "      width: 32px;\n",
              "    }\n",
              "\n",
              "    .colab-df-convert:hover {\n",
              "      background-color: #E2EBFA;\n",
              "      box-shadow: 0px 1px 2px rgba(60, 64, 67, 0.3), 0px 1px 3px 1px rgba(60, 64, 67, 0.15);\n",
              "      fill: #174EA6;\n",
              "    }\n",
              "\n",
              "    [theme=dark] .colab-df-convert {\n",
              "      background-color: #3B4455;\n",
              "      fill: #D2E3FC;\n",
              "    }\n",
              "\n",
              "    [theme=dark] .colab-df-convert:hover {\n",
              "      background-color: #434B5C;\n",
              "      box-shadow: 0px 1px 3px 1px rgba(0, 0, 0, 0.15);\n",
              "      filter: drop-shadow(0px 1px 2px rgba(0, 0, 0, 0.3));\n",
              "      fill: #FFFFFF;\n",
              "    }\n",
              "  </style>\n",
              "\n",
              "      <script>\n",
              "        const buttonEl =\n",
              "          document.querySelector('#df-bb64f703-12c2-44d7-b7ec-34b648b45013 button.colab-df-convert');\n",
              "        buttonEl.style.display =\n",
              "          google.colab.kernel.accessAllowed ? 'block' : 'none';\n",
              "\n",
              "        async function convertToInteractive(key) {\n",
              "          const element = document.querySelector('#df-bb64f703-12c2-44d7-b7ec-34b648b45013');\n",
              "          const dataTable =\n",
              "            await google.colab.kernel.invokeFunction('convertToInteractive',\n",
              "                                                     [key], {});\n",
              "          if (!dataTable) return;\n",
              "\n",
              "          const docLinkHtml = 'Like what you see? Visit the ' +\n",
              "            '<a target=\"_blank\" href=https://colab.research.google.com/notebooks/data_table.ipynb>data table notebook</a>'\n",
              "            + ' to learn more about interactive tables.';\n",
              "          element.innerHTML = '';\n",
              "          dataTable['output_type'] = 'display_data';\n",
              "          await google.colab.output.renderOutput(dataTable, element);\n",
              "          const docLink = document.createElement('div');\n",
              "          docLink.innerHTML = docLinkHtml;\n",
              "          element.appendChild(docLink);\n",
              "        }\n",
              "      </script>\n",
              "    </div>\n",
              "  </div>\n",
              "  "
            ]
          },
          "metadata": {},
          "execution_count": 55
        }
      ]
    }
  ]
}